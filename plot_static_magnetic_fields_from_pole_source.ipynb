{
 "cells": [
  {
   "attachments": {},
   "cell_type": "markdown",
   "metadata": {},
   "source": [
    "---\n",
    "title: 'Total magnetic fields: Dipole and Pole sources'\n",
    "authors:\n",
    "  - name: Seogi Kang\n",
    "    github: sgkang\n",
    "  - name: Rowan Cockett\n",
    "date: 2018/08/19\n",
    "---\n",
    "\n",
    "In this example, we plot anomalous total magnetic field\n",
    "from a magnetic dipole and pole targets. These targets are\n",
    "excited by Earth magnetic fields.\n",
    "We can vary the direction of the Earth magnetic field, and\n",
    "magnetic moment of the target."
   ]
  },
  {
   "cell_type": "code",
   "execution_count": null,
   "metadata": {},
   "outputs": [],
   "source": [
    "import micropip\n",
    "await micropip.install('ipywidgets')\n",
    "await micropip.install('https://cdn.curvenote.com/pypi/geoana-0.5.0-py3-none-any.whl')"
   ]
  },
  {
   "cell_type": "code",
   "execution_count": 5,
   "metadata": {
    "collapsed": false,
    "jupyter": {
     "outputs_hidden": false
    }
   },
   "outputs": [],
   "source": [
    "import numpy as np\n",
    "import matplotlib.pyplot as plt\n",
    "from matplotlib.colors import LogNorm\n",
    "from scipy.constants import mu_0, epsilon_0\n",
    "from ipywidgets import interactive\n",
    "\n",
    "from geoana import utils, spatial\n",
    "from geoana.em import static"
   ]
  },
  {
   "attachments": {},
   "cell_type": "markdown",
   "metadata": {},
   "source": [
    "## Setup\n",
    "\n",
    "define the location, orientation, and source, physical properties of the\n",
    "wholespace and source parameters."
   ]
  },
  {
   "cell_type": "code",
   "execution_count": 2,
   "metadata": {
    "collapsed": false,
    "jupyter": {
     "outputs_hidden": false
    }
   },
   "outputs": [],
   "source": [
    "mu = mu_0  # permeability of free space (this is the default)\n",
    "location = np.r_[0., 0., -10.]  # location of the dipole or pole\n",
    "\n",
    "# dipole parameters\n",
    "moment = 1"
   ]
  },
  {
   "attachments": {},
   "cell_type": "markdown",
   "metadata": {},
   "source": [
    "## Magnetostatic Dipole and Loop\n",
    "\n",
    "Here, we build the geoana magnetic dipole and poie in a wholespace\n",
    "using the parameters defined above."
   ]
  },
  {
   "cell_type": "code",
   "execution_count": 3,
   "metadata": {
    "collapsed": false,
    "jupyter": {
     "outputs_hidden": false
    }
   },
   "outputs": [],
   "source": [
    "def id_to_cartesian(inclination, declination):\n",
    "    ux = np.cos(inclination/180.*np.pi)*np.sin(declination/180.*np.pi)\n",
    "    uy = np.cos(inclination/180.*np.pi)*np.cos(declination/180.*np.pi)\n",
    "    uz = -np.sin(inclination/180.*np.pi)\n",
    "    return np.r_[ux, uy, uz]\n",
    "\n",
    "def plot_amplitude(ax, x, y, v):\n",
    "    plt.colorbar(\n",
    "        ax.pcolormesh(\n",
    "            x, y, v.reshape(len(x), len(y), order='F')\n",
    "        ), ax=ax\n",
    "    )\n",
    "    ax.axis('square')\n",
    "    ax.set_xlabel('y (east,  m)')\n",
    "    ax.set_ylabel('x (north,  m)')\n",
    "\n",
    "def plot_fields(inclination, declination):\n",
    "    orientation = id_to_cartesian(inclination, declination)\n",
    "    \n",
    "    dipole = static.MagneticDipoleWholeSpace(\n",
    "        location=location,\n",
    "        orientation=orientation,\n",
    "        moment=moment\n",
    "    )\n",
    "    \n",
    "    pole = static.MagneticPoleWholeSpace(\n",
    "        location=location,\n",
    "        orientation=orientation,\n",
    "        moment=moment\n",
    "    )\n",
    "    x = np.linspace(-36, 36, 100)\n",
    "    y = np.linspace(-36, 36, 100)\n",
    "    xyz = utils.ndgrid([x, y, np.r_[1.]])\n",
    "    \n",
    "    # evaluate the magnetic field\n",
    "    b_vec_dipole = dipole.magnetic_flux_density(xyz)\n",
    "    b_vec_pole = pole.magnetic_flux_density(xyz)\n",
    "    b_total_dipole = dipole.dot_orientation(b_vec_dipole)\n",
    "    b_total_pole = pole.dot_orientation(b_vec_pole)\n",
    "\n",
    "    fig, ax = plt.subplots(1, 2, figsize=(12, 5))\n",
    "    # plot dipole vector potential\n",
    "    plot_amplitude(ax[0], x, y, b_total_dipole)\n",
    "    # plot loop vector potential\n",
    "    plot_amplitude(ax[1], x, y, b_total_pole)\n",
    "\n",
    "    plt.show()"
   ]
  },
  {
   "cell_type": "code",
   "execution_count": 4,
   "metadata": {},
   "outputs": [
    {
     "data": {
      "application/vnd.jupyter.widget-view+json": {
       "model_id": "9b996f2a366144b38dc6da24b0c7fa58",
       "version_major": 2,
       "version_minor": 0
      },
      "text/plain": [
       "interactive(children=(FloatSlider(value=33.0, description='inclination', max=67.0, step=1.0), FloatSlider(valu…"
      ]
     },
     "execution_count": 4,
     "metadata": {},
     "output_type": "execute_result"
    }
   ],
   "source": [
    "#| label: app:magnetic_dipole_whole_space\n",
    "# inclination and declination (e.g. Vancouver)\n",
    "interactive(plot_fields, inclination=(0.,67.,1.), declination=(0., 90.))"
   ]
  }
 ],
 "metadata": {
  "kernelspec": {
   "display_name": "Python 3 (ipykernel)",
   "language": "python",
   "name": "python3"
  },
  "language_info": {
   "codemirror_mode": {
    "name": "ipython",
    "version": 3
   },
   "file_extension": ".py",
   "mimetype": "text/x-python",
   "name": "python",
   "nbconvert_exporter": "python",
   "pygments_lexer": "ipython3",
   "version": "3.8.17"
  }
 },
 "nbformat": 4,
 "nbformat_minor": 4
}
