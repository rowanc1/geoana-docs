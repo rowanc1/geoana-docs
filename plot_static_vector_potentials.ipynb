{
 "cells": [
  {
   "attachments": {},
   "cell_type": "markdown",
   "metadata": {},
   "source": [
    "---\n",
    "title: 'Magnetostatic Vector Potentials: Dipole and Loop Sources'\n",
    "authors:\n",
    "  - name: Lindsey Heagy\n",
    "    github: lheagy\n",
    "  - name: Rowan Cockett\n",
    "    github: rowanc1\n",
    "date: 2018/06/06\n",
    "---\n",
    "\n",
    "\n",
    "In this example, we plot the vector potential for a dipole and a loop source\n",
    "in a wholespace.\n",
    "\n",
    "We can vary the magnetic permeability of the wholespace, location and\n",
    "orientation of the sources. For the dipole source, we can vary the moment, and\n",
    "for the loop source, we can vary the radius and current through the loop."
   ]
  },
  {
   "cell_type": "code",
   "execution_count": null,
   "metadata": {},
   "outputs": [],
   "source": [
    "# Only run this cell in jupyterlite!\n",
    "import micropip\n",
    "await micropip.install('ipywidgets')\n",
    "await micropip.install('https://cdn.curvenote.com/pypi/geoana-0.5.0-py3-none-any.whl')"
   ]
  },
  {
   "cell_type": "code",
   "execution_count": 8,
   "metadata": {
    "collapsed": false,
    "jupyter": {
     "outputs_hidden": false
    }
   },
   "outputs": [],
   "source": [
    "import numpy as np\n",
    "import matplotlib.pyplot as plt\n",
    "from matplotlib.colors import LogNorm\n",
    "from scipy.constants import mu_0, epsilon_0\n",
    "from ipywidgets import interactive\n",
    "\n",
    "from geoana import utils, spatial\n",
    "from geoana.em import static"
   ]
  },
  {
   "attachments": {},
   "cell_type": "markdown",
   "metadata": {},
   "source": [
    "## Setup\n",
    "\n",
    "Define the location orientation and source, physical properties of the wholespace and source parameters"
   ]
  },
  {
   "cell_type": "code",
   "execution_count": 9,
   "metadata": {
    "collapsed": false,
    "jupyter": {
     "outputs_hidden": false
    }
   },
   "outputs": [],
   "source": [
    "\n",
    "mu = mu_0  # permeability of free space (this is the default)\n",
    "location=np.r_[0., 0., 0.]  # location of the dipole\n",
    "orientation='Z'  # vertical dipole (can also be a unit-vector)"
   ]
  },
  {
   "attachments": {},
   "cell_type": "markdown",
   "metadata": {},
   "source": [
    "## Magnetostatic Dipole and Loop\n",
    "\n",
    "Here, we build the geoana magnetic dipole in a wholespace and circular loop\n",
    "in a wholespace using the parameters defined above.\n",
    "For a full list of the properties you can set on a dipole, see the\n",
    ":class:`geoana.em.static.MagneticDipoleWholeSpace` docs and for the\n",
    "circular loop source, see the\n",
    ":class:`geoana.em.static.CircularLoopWholeSpace` docs"
   ]
  },
  {
   "cell_type": "code",
   "execution_count": 20,
   "metadata": {},
   "outputs": [],
   "source": [
    "# Evaluate vector potential\n",
    "# --------------------------\n",
    "#\n",
    "# Next, we construct a grid where we want to plot the vector potential and\n",
    "# evaluate\n",
    "\n",
    "###############################################################################\n",
    "#\n",
    "# and define plotting code to plot an image of the amplitude of the vector\n",
    "# field / flux as well as the streamlines\n",
    "\n",
    "def plot_amplitude(ax, x, y, v):\n",
    "    v = spatial.vector_magnitude(v)\n",
    "    plt.colorbar(\n",
    "        ax.pcolormesh(\n",
    "            x, y, v.reshape(len(x), len(y), order='C'), norm=LogNorm()\n",
    "        ), ax=ax\n",
    "    )\n",
    "    ax.axis('square')\n",
    "    ax.set_xlabel('x (m)')\n",
    "    ax.set_ylabel('y (m)')\n",
    "\n",
    "\n",
    "# plot streamlines\n",
    "def plot_streamlines(ax, x, y, v):\n",
    "    vx = v[:, 0].reshape(len(x), len(y), order='F')\n",
    "    vy = v[:, 1].reshape(len(x), len(y), order='F')\n",
    "    ax.streamplot(x, y, vx.T, vy.T, color='k')\n",
    "\n",
    "\n",
    "###############################################################################\n",
    "# Create subplots for plotting the results. Loop over frequencies and plot the\n",
    "# electric and magnetic fields along a slice through the center of the dipole.\n",
    "def plot_fields(moment = 1, current = 1, radius = 20, location_x=0., location_y=0., location_z=0.,orientation_x=0.,orientation_y=0.,orientation_z=1.):\n",
    "\n",
    "    mu = mu_0\n",
    "    location=np.r_[location_x, location_y, location_z]  # location of the dipole\n",
    "    orientation=np.r_[orientation_x, orientation_y, orientation_z]  # vertical dipole (can also be a unit-vector)\n",
    "\n",
    "    dipole = static.MagneticDipoleWholeSpace(\n",
    "        mu=mu, location=location,\n",
    "        orientation=orientation , moment=moment\n",
    "    )\n",
    "\n",
    "    loop = static.CircularLoopWholeSpace(\n",
    "        mu=mu, location=location,\n",
    "        orientation=orientation, current=current,\n",
    "        radius=radius\n",
    "    )\n",
    "    \n",
    "    x = np.linspace(-50, 50, 100)\n",
    "    y = np.linspace(-50, 50, 100)\n",
    "    xyz = utils.ndgrid([x, y, np.r_[0]])\n",
    "\n",
    "    # evaluate the vector potential\n",
    "    a_dipole = dipole.vector_potential(xyz)\n",
    "    a_loop = loop.vector_potential(xyz)\n",
    "\n",
    "    fig, ax = plt.subplots(1, 2, figsize=(12, 5))\n",
    "\n",
    "    # plot dipole vector potential\n",
    "    plot_amplitude(ax[0], x, y, a_dipole)\n",
    "    plot_streamlines(ax[0], x, y, a_dipole)\n",
    "\n",
    "    # plot loop vector potential\n",
    "    plot_amplitude(ax[1], x, y, a_loop)\n",
    "    plot_streamlines(ax[1], x, y, a_loop)\n",
    "\n",
    "\n",
    "    # set the titles\n",
    "    ax[0].set_title(\"$\\\\vec{A}$: dipole\")\n",
    "    ax[1].set_title(\"$\\\\vec{A}$: loop\")\n",
    "\n",
    "    # format so text doesn't overlap\n",
    "    fig.tight_layout()\n",
    "    plt.show()"
   ]
  },
  {
   "cell_type": "code",
   "execution_count": 21,
   "metadata": {},
   "outputs": [
    {
     "data": {
      "application/vnd.jupyter.widget-view+json": {
       "model_id": "73a477f874ba411d98522cd880e2e7a8",
       "version_major": 2,
       "version_minor": 0
      },
      "text/plain": [
       "interactive(children=(IntSlider(value=1, description='moment', max=3, min=-1), IntSlider(value=1, description=…"
      ]
     },
     "execution_count": 21,
     "metadata": {},
     "output_type": "execute_result"
    }
   ],
   "source": [
    "#| label: app:static_vector_potentials\n",
    "interactive(plot_fields, radius=(1.,40.,1.), location_x=(-40.,40.,1.),location_y=(-40.,40.,1.),location_z=(-40.,40.,1.), orientation_x=(0.,1.,0.1), orientation_y=(0.,1.,0.1), orientation_z=(0.,1.,0.1))"
   ]
  },
  {
   "cell_type": "code",
   "execution_count": null,
   "metadata": {},
   "outputs": [],
   "source": []
  }
 ],
 "metadata": {
  "kernelspec": {
   "display_name": "Python 3 (ipykernel)",
   "language": "python",
   "name": "python3"
  },
  "language_info": {
   "codemirror_mode": {
    "name": "ipython",
    "version": 3
   },
   "file_extension": ".py",
   "mimetype": "text/x-python",
   "name": "python",
   "nbconvert_exporter": "python",
   "pygments_lexer": "ipython3",
   "version": "3.8.17"
  }
 },
 "nbformat": 4,
 "nbformat_minor": 4
}
